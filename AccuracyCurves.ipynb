{
 "cells": [
  {
   "cell_type": "code",
   "metadata": {
    "tags": [],
    "cell_id": "00000-f7cc21d5-c446-4474-a6b7-961bed46c6ee",
    "deepnote_to_be_reexecuted": false,
    "source_hash": "98172798",
    "execution_start": 1632933007813,
    "execution_millis": 489,
    "deepnote_cell_type": "code"
   },
   "source": "import os\nimport numpy as np\nimport pickle\nfrom pathlib import Path\nimport matplotlib.font_manager as fm\n\nfrom plotting import accuracy_curves_plotter",
   "execution_count": 1,
   "outputs": []
  },
  {
   "cell_type": "code",
   "metadata": {
    "tags": [],
    "cell_id": "00001-3c442dfa-7c65-4a98-8a0b-f5887c6b7222",
    "deepnote_to_be_reexecuted": true,
    "source_hash": "751cb228",
    "execution_start": 1632933008308,
    "execution_millis": 492,
    "deepnote_cell_type": "code"
   },
   "source": "# Importing LaTeX font for plots\nos.system('wget -O cmunrm.ttf https://github.com/nicogig/ComputerModern/raw/main/cmunrm.ttf > /dev/null 2>&1')\n\n#!wget -O cmunrm.ttf https://github.com/nicogig/ComputerModern/raw/main/cmunrm.ttf\n\nfpath = Path('cmunrm.ttf')\nfont = fm.FontProperties(fname='cmunrm.ttf', size=18)",
   "outputs": [],
   "execution_count": null
  },
  {
   "cell_type": "code",
   "metadata": {
    "tags": [],
    "cell_id": "00000-4712ab65-4d83-4b53-80d7-01e32277c6d2",
    "deepnote_to_be_reexecuted": true,
    "source_hash": "d4579d6",
    "execution_start": 1632931302508,
    "execution_millis": 23,
    "deepnote_cell_type": "code"
   },
   "source": "# Opening accuracies arrays from files\n\ndata = [[], [], []]\naccuracy_labels = []\n\nfor number_hidden_layers in range(1, 5):\n    accuracy_labels.append(\"{} hidden layers\".format(number_hidden_layers) if (number_hidden_layers != 1) else \"1 hidden layer\")\n\n    for fault_type in range (1, 4):\n        try:\n            data[fault_type-1].append(pickle.load(open(\"saved_data/accuracies_faultType{}_{}HL.p\".format(fault_type, number_hidden_layers), \"rb\")))\n        except FileNotFoundError:\n            print(\"Fault not yet implemented.\")\n\ntry:\n    data_cannot_electroform = data[0]\n    data_stuck_at_HRS = data[1]\n    data_stuck_at_LRS = data[2]\nexcept IndexError:\n    print(\"Fault not yet implemented.\")",
   "outputs": [
    {
     "name": "stdout",
     "text": "Fault not yet implemented.\nFault not yet implemented.\nFault not yet implemented.\nFault not yet implemented.\nFault not yet implemented.\nFault not yet implemented.\nFault not yet implemented.\nFault not yet implemented.\nFault not yet implemented.\nFault not yet implemented.\nFault not yet implemented.\n",
     "output_type": "stream"
    }
   ],
   "execution_count": null
  },
  {
   "cell_type": "code",
   "metadata": {
    "tags": [],
    "cell_id": "00002-c5d662d4-3864-4de7-9e27-6dfb84e11ce7",
    "deepnote_to_be_reexecuted": true,
    "source_hash": "ee595cca",
    "execution_start": 1632917356022,
    "execution_millis": 2,
    "deepnote_cell_type": "code"
   },
   "source": "# Plotting accuracy curves for Type I (Cannot Electroform) fault\n\naccuracy_curves_plotter(data_cannot_electroform[0][0], [data_cannot_electroform[i][1] for i in range(0,4)], value_type=data_cannot_electroform[0][2], fpath=font, labels=accuracy_labels)",
   "execution_count": null,
   "outputs": []
  },
  {
   "cell_type": "code",
   "metadata": {
    "tags": [],
    "cell_id": "00004-e0a9bf41-d0c1-4b15-a27e-8e6782d186fe",
    "deepnote_to_be_reexecuted": true,
    "source_hash": "d6975b16",
    "execution_start": 1632917356026,
    "execution_millis": 2,
    "deepnote_cell_type": "code"
   },
   "source": "# Plotting accuracy curves for Type II (Stuck at HRS) fault\n\naccuracy_curves_plotter(data_stuck_at_HRS[0][0], [data_stuck_at_HRS[i][1] for i in range(0,4)], value_type=data_stuck_at_HRS[0][2], fpath=font, labels=accuracy_labels)",
   "execution_count": null,
   "outputs": []
  },
  {
   "cell_type": "code",
   "metadata": {
    "tags": [],
    "cell_id": "00005-294f45e1-8edb-4348-a0e1-1010de8f71ef",
    "deepnote_to_be_reexecuted": true,
    "source_hash": "90a26d4e",
    "deepnote_cell_type": "code"
   },
   "source": "# Plotting accuracy curves for Type III (Stuck at LRS) fault\n\naccuracy_curves_plotter(data_stuck_at_LRS[0][0], [data_stuck_at_LRS[i][1] for i in range(0,4)], value_type=data_stuck_at_LRS[0][2], fpath=font, labels=accuracy_labels)",
   "execution_count": null,
   "outputs": []
  },
  {
   "cell_type": "markdown",
   "source": "<a style='text-decoration:none;line-height:16px;display:flex;color:#5B5B62;padding:10px;justify-content:end;' href='https://deepnote.com?utm_source=created-in-deepnote-cell&projectId=81ea8185-215e-49ca-bfae-d3424caf9524' target=\"_blank\">\n<img alt='Created in deepnote.com' style='display:inline;max-height:16px;margin:0px;margin-right:7.5px;' src='data:image/svg+xml;base64,PD94bWwgdmVyc2lvbj0iMS4wIiBlbmNvZGluZz0iVVRGLTgiPz4KPHN2ZyB3aWR0aD0iODBweCIgaGVpZ2h0PSI4MHB4IiB2aWV3Qm94PSIwIDAgODAgODAiIHZlcnNpb249IjEuMSIgeG1sbnM9Imh0dHA6Ly93d3cudzMub3JnLzIwMDAvc3ZnIiB4bWxuczp4bGluaz0iaHR0cDovL3d3dy53My5vcmcvMTk5OS94bGluayI+CiAgICA8IS0tIEdlbmVyYXRvcjogU2tldGNoIDU0LjEgKDc2NDkwKSAtIGh0dHBzOi8vc2tldGNoYXBwLmNvbSAtLT4KICAgIDx0aXRsZT5Hcm91cCAzPC90aXRsZT4KICAgIDxkZXNjPkNyZWF0ZWQgd2l0aCBTa2V0Y2guPC9kZXNjPgogICAgPGcgaWQ9IkxhbmRpbmciIHN0cm9rZT0ibm9uZSIgc3Ryb2tlLXdpZHRoPSIxIiBmaWxsPSJub25lIiBmaWxsLXJ1bGU9ImV2ZW5vZGQiPgogICAgICAgIDxnIGlkPSJBcnRib2FyZCIgdHJhbnNmb3JtPSJ0cmFuc2xhdGUoLTEyMzUuMDAwMDAwLCAtNzkuMDAwMDAwKSI+CiAgICAgICAgICAgIDxnIGlkPSJHcm91cC0zIiB0cmFuc2Zvcm09InRyYW5zbGF0ZSgxMjM1LjAwMDAwMCwgNzkuMDAwMDAwKSI+CiAgICAgICAgICAgICAgICA8cG9seWdvbiBpZD0iUGF0aC0yMCIgZmlsbD0iIzAyNjVCNCIgcG9pbnRzPSIyLjM3NjIzNzYyIDgwIDM4LjA0NzY2NjcgODAgNTcuODIxNzgyMiA3My44MDU3NTkyIDU3LjgyMTc4MjIgMzIuNzU5MjczOSAzOS4xNDAyMjc4IDMxLjY4MzE2ODMiPjwvcG9seWdvbj4KICAgICAgICAgICAgICAgIDxwYXRoIGQ9Ik0zNS4wMDc3MTgsODAgQzQyLjkwNjIwMDcsNzYuNDU0OTM1OCA0Ny41NjQ5MTY3LDcxLjU0MjI2NzEgNDguOTgzODY2LDY1LjI2MTk5MzkgQzUxLjExMjI4OTksNTUuODQxNTg0MiA0MS42NzcxNzk1LDQ5LjIxMjIyODQgMjUuNjIzOTg0Niw0OS4yMTIyMjg0IEMyNS40ODQ5Mjg5LDQ5LjEyNjg0NDggMjkuODI2MTI5Niw0My4yODM4MjQ4IDM4LjY0NzU4NjksMzEuNjgzMTY4MyBMNzIuODcxMjg3MSwzMi41NTQ0MjUgTDY1LjI4MDk3Myw2Ny42NzYzNDIxIEw1MS4xMTIyODk5LDc3LjM3NjE0NCBMMzUuMDA3NzE4LDgwIFoiIGlkPSJQYXRoLTIyIiBmaWxsPSIjMDAyODY4Ij48L3BhdGg+CiAgICAgICAgICAgICAgICA8cGF0aCBkPSJNMCwzNy43MzA0NDA1IEwyNy4xMTQ1MzcsMC4yNTcxMTE0MzYgQzYyLjM3MTUxMjMsLTEuOTkwNzE3MDEgODAsMTAuNTAwMzkyNyA4MCwzNy43MzA0NDA1IEM4MCw2NC45NjA0ODgyIDY0Ljc3NjUwMzgsNzkuMDUwMzQxNCAzNC4zMjk1MTEzLDgwIEM0Ny4wNTUzNDg5LDc3LjU2NzA4MDggNTMuNDE4MjY3Nyw3MC4zMTM2MTAzIDUzLjQxODI2NzcsNTguMjM5NTg4NSBDNTMuNDE4MjY3Nyw0MC4xMjg1NTU3IDM2LjMwMzk1NDQsMzcuNzMwNDQwNSAyNS4yMjc0MTcsMzcuNzMwNDQwNSBDMTcuODQzMDU4NiwzNy43MzA0NDA1IDkuNDMzOTE5NjYsMzcuNzMwNDQwNSAwLDM3LjczMDQ0MDUgWiIgaWQ9IlBhdGgtMTkiIGZpbGw9IiMzNzkzRUYiPjwvcGF0aD4KICAgICAgICAgICAgPC9nPgogICAgICAgIDwvZz4KICAgIDwvZz4KPC9zdmc+' > </img>\nCreated in <span style='font-weight:600;margin-left:4px;'>Deepnote</span></a>",
   "metadata": {
    "tags": [],
    "created_in_deepnote_cell": true,
    "deepnote_cell_type": "markdown"
   }
  }
 ],
 "nbformat": 4,
 "nbformat_minor": 2,
 "metadata": {
  "orig_nbformat": 2,
  "deepnote": {
   "is_reactive": false
  },
  "deepnote_notebook_id": "4b5495e3-bdfc-4a66-98eb-6c4d8c18fe1c",
  "deepnote_execution_queue": [
   {
    "cellId": "00001-3c442dfa-7c65-4a98-8a0b-f5887c6b7222",
    "sessionId": "1fdf747e-fb35-4a6e-921e-317310c1d800",
    "msgId": "dfc7b468-a0f4-4792-a1ec-19877c08de72"
   },
   {
    "cellId": "00000-4712ab65-4d83-4b53-80d7-01e32277c6d2",
    "sessionId": "1fdf747e-fb35-4a6e-921e-317310c1d800",
    "msgId": "3a378b3b-4018-4583-b8c5-691b22859f30"
   },
   {
    "cellId": "00002-c5d662d4-3864-4de7-9e27-6dfb84e11ce7",
    "sessionId": "1fdf747e-fb35-4a6e-921e-317310c1d800",
    "msgId": "b4a5dc51-cbfe-4f5a-a375-0a3168f7ddc8"
   },
   {
    "cellId": "00004-e0a9bf41-d0c1-4b15-a27e-8e6782d186fe",
    "sessionId": "1fdf747e-fb35-4a6e-921e-317310c1d800",
    "msgId": "15a41108-babb-4839-b5f2-0a5dfce7a200"
   },
   {
    "cellId": "00005-294f45e1-8edb-4348-a0e1-1010de8f71ef",
    "sessionId": "1fdf747e-fb35-4a6e-921e-317310c1d800",
    "msgId": "a4086b67-d27c-44aa-a338-5c5d44104673"
   }
  ]
 }
}