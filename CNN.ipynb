{
 "cells": [
  {
   "cell_type": "code",
   "source": "import os\nos.environ['TF_CPP_MIN_LOG_LEVEL'] = '3'",
   "metadata": {
    "tags": [],
    "cell_id": "00000-0289112a-39b7-4053-af92-82e835d497f0",
    "deepnote_to_be_reexecuted": false,
    "source_hash": "6b5b807a",
    "execution_start": 1631372748513,
    "execution_millis": 3,
    "deepnote_cell_type": "code"
   },
   "outputs": [],
   "execution_count": null
  },
  {
   "cell_type": "code",
   "source": "import numpy as np\nimport matplotlib.pyplot as plt\n\nfrom tensorflow.keras import layers\nfrom tensorflow.keras import models\nfrom tensorflow.keras.datasets import mnist\nfrom tensorflow.keras.utils import to_categorical\nfrom tensorflow.keras.utils import plot_model\n\n(train_images, train_labels), (test_images, test_labels) = mnist.load_data()",
   "metadata": {
    "tags": [],
    "cell_id": "00000-94517a21-4ce7-4f07-a741-aebd39489254",
    "deepnote_to_be_reexecuted": false,
    "source_hash": "7d50fc0d",
    "execution_start": 1631372748521,
    "execution_millis": 4868,
    "deepnote_cell_type": "code"
   },
   "outputs": [],
   "execution_count": null
  },
  {
   "cell_type": "markdown",
   "source": "# MNIST Convolutional Neural Network",
   "metadata": {
    "tags": [],
    "is_collapsed": false,
    "cell_id": "00001-0e877dcb-afb6-483a-adcd-417ddaa809b4",
    "deepnote_cell_type": "text-cell-h1"
   }
  },
  {
   "cell_type": "code",
   "source": "# Data reshaping\n\nCNN_train_images = train_images.reshape((60000, 28, 28, 1)).astype('float32') / 255\nCNN_test_images = test_images.reshape((10000, 28, 28, 1)).astype('float32') / 255\n\nCNN_train_labels = to_categorical(train_labels)\nCNN_test_labels = to_categorical(test_labels)",
   "metadata": {
    "tags": [],
    "cell_id": "00001-daaf3047-2c7d-4317-90f2-4fa0d2c7a2b0",
    "deepnote_to_be_reexecuted": false,
    "source_hash": "b549ddaa",
    "execution_start": 1631372753396,
    "execution_millis": 79,
    "deepnote_cell_type": "code"
   },
   "outputs": [],
   "execution_count": null
  },
  {
   "cell_type": "code",
   "source": "# Model definition\n\nMNIST_CNN = models.Sequential(name=\"MNIST_CNN\")\nMNIST_CNN.add(layers.Conv2D(32, (3, 3), activation=\"relu\", input_shape=(28, 28, 1), name=\"MNIST_CNN_Conv1\"))\nMNIST_CNN.add(layers.MaxPooling2D((2, 2), name=\"MNIST_CNN_Pool1\"))\nMNIST_CNN.add(layers.Conv2D(64, (3, 3), activation=\"relu\", name=\"MNIST_CNN_Conv2\"))\nMNIST_CNN.add(layers.MaxPooling2D((2, 2), name=\"MNIST_CNN_Pool2\"))\nMNIST_CNN.add(layers.Conv2D(64, (3, 3), activation=\"relu\", name=\"MNIST_CNN_Conv3\"))\n\nMNIST_CNN.add(layers.Flatten(name=\"MNIST_CNN_Flatten\"))\nMNIST_CNN.add(layers.Dense(64, activation=\"relu\", name=\"MNIST_CNN_Dense1\"))\nMNIST_CNN.add(layers.Dense(10, activation=\"softmax\", name=\"MNIST_CNN_Dense2\"))\n\nMNIST_CNN.summary()",
   "metadata": {
    "tags": [],
    "cell_id": "00002-7d968eb9-6fbd-47b7-b8c8-4dfdd41d6060",
    "deepnote_to_be_reexecuted": false,
    "source_hash": "25faea0a",
    "execution_start": 1631372753481,
    "execution_millis": 91,
    "deepnote_cell_type": "code"
   },
   "outputs": [
    {
     "name": "stdout",
     "text": "Model: \"MNIST_CNN\"\n_________________________________________________________________\nLayer (type)                 Output Shape              Param #   \n=================================================================\nMNIST_CNN_Conv1 (Conv2D)     (None, 26, 26, 32)        320       \n_________________________________________________________________\nMNIST_CNN_Pool1 (MaxPooling2 (None, 13, 13, 32)        0         \n_________________________________________________________________\nMNIST_CNN_Conv2 (Conv2D)     (None, 11, 11, 64)        18496     \n_________________________________________________________________\nMNIST_CNN_Pool2 (MaxPooling2 (None, 5, 5, 64)          0         \n_________________________________________________________________\nMNIST_CNN_Conv3 (Conv2D)     (None, 3, 3, 64)          36928     \n_________________________________________________________________\nMNIST_CNN_Flatten (Flatten)  (None, 576)               0         \n_________________________________________________________________\nMNIST_CNN_Dense1 (Dense)     (None, 64)                36928     \n_________________________________________________________________\nMNIST_CNN_Dense2 (Dense)     (None, 10)                650       \n=================================================================\nTotal params: 93,322\nTrainable params: 93,322\nNon-trainable params: 0\n_________________________________________________________________\n",
     "output_type": "stream"
    }
   ],
   "execution_count": null
  },
  {
   "cell_type": "code",
   "source": "# Model training and performance\n\nMNIST_CNN.compile(optimizer=\"rmsprop\", loss=\"categorical_crossentropy\", metrics=[\"accuracy\"])\n\nMNIST_CNN.fit(CNN_train_images, CNN_train_labels, epochs=5, batch_size=120)\nCNN_test_loss, CNN_test_acc = MNIST_CNN.evaluate(CNN_test_images, CNN_test_labels)\nprint(\"Test accuracy: \", np.round(CNN_test_acc*100, 3), \"%\")",
   "metadata": {
    "tags": [],
    "cell_id": "00003-26fb7a5d-eedd-4212-8131-6cb60eb1177b",
    "deepnote_to_be_reexecuted": false,
    "source_hash": "63134c85",
    "execution_start": 1631372753582,
    "execution_millis": 247907,
    "deepnote_cell_type": "code"
   },
   "outputs": [
    {
     "name": "stdout",
     "text": "Epoch 1/5\n500/500 [==============================] - 67s 132ms/step - loss: 0.5140 - accuracy: 0.8377\nEpoch 2/5\n500/500 [==============================] - 47s 94ms/step - loss: 0.0639 - accuracy: 0.9809\nEpoch 3/5\n500/500 [==============================] - 44s 88ms/step - loss: 0.0411 - accuracy: 0.9868\nEpoch 4/5\n500/500 [==============================] - 44s 87ms/step - loss: 0.0277 - accuracy: 0.9913\nEpoch 5/5\n500/500 [==============================] - 44s 87ms/step - loss: 0.0214 - accuracy: 0.9933\n313/313 [==============================] - 2s 7ms/step - loss: 0.0262 - accuracy: 0.9914\nTest accuracy:  99.14 %\n",
     "output_type": "stream"
    }
   ],
   "execution_count": null
  },
  {
   "cell_type": "markdown",
   "source": "<a style='text-decoration:none;line-height:16px;display:flex;color:#5B5B62;padding:10px;justify-content:end;' href='https://deepnote.com?utm_source=created-in-deepnote-cell&projectId=f63981ff-15e3-4a0a-8bcf-dbdeefafcfde' target=\"_blank\">\n<img alt='Created in deepnote.com' style='display:inline;max-height:16px;margin:0px;margin-right:7.5px;' src='data:image/svg+xml;base64,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' > </img>\nCreated in <span style='font-weight:600;margin-left:4px;'>Deepnote</span></a>",
   "metadata": {
    "tags": [],
    "created_in_deepnote_cell": true,
    "deepnote_cell_type": "markdown"
   }
  }
 ],
 "nbformat": 4,
 "nbformat_minor": 2,
 "metadata": {
  "orig_nbformat": 2,
  "deepnote": {
   "is_reactive": false
  },
  "deepnote_notebook_id": "460eaa0d-44bb-4250-ade1-f9087453ec0b",
  "deepnote_execution_queue": []
 }
}